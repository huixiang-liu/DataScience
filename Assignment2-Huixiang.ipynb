{
 "cells": [
  {
   "cell_type": "code",
   "execution_count": 1,
   "metadata": {},
   "outputs": [
    {
     "name": "stdout",
     "output_type": "stream",
     "text": [
      "Searching for fancyimpute\n",
      "Best match: fancyimpute 0.4.2\n",
      "Adding fancyimpute 0.4.2 to easy-install.pth file\n",
      "\n",
      "Using /home/huixiang/anaconda3/lib/python3.7/site-packages\n",
      "Processing dependencies for fancyimpute\n",
      "Finished processing dependencies for fancyimpute\n"
     ]
    }
   ],
   "source": [
    "!easy_install fancyimpute"
   ]
  },
  {
   "cell_type": "code",
   "execution_count": 2,
   "metadata": {},
   "outputs": [
    {
     "name": "stderr",
     "output_type": "stream",
     "text": [
      "Using TensorFlow backend.\n"
     ]
    }
   ],
   "source": [
    "import pandas as pd\n",
    "from sklearn.ensemble import RandomForestClassifier, GradientBoostingClassifier\n",
    "from sklearn import preprocessing\n",
    "from sklearn.metrics import accuracy_score,f1_score\n",
    "from pandas.api.types import is_string_dtype,is_numeric_dtype\n",
    "import seaborn as sns\n",
    "import matplotlib.pyplot as plt\n",
    "from sklearn.model_selection import train_test_split, GridSearchCV\n",
    "import numpy as np\n",
    "from fancyimpute import SimpleFill, KNN, SoftImpute, IterativeSVD, IterativeImputer, MatrixFactorization, NuclearNormMinimization, BiScaler\n",
    "\n",
    "%matplotlib inline"
   ]
  },
  {
   "cell_type": "code",
   "execution_count": 3,
   "metadata": {},
   "outputs": [
    {
     "data": {
      "text/plain": [
       "'/home/huixiang/6015/week3'"
      ]
     },
     "execution_count": 3,
     "metadata": {},
     "output_type": "execute_result"
    }
   ],
   "source": [
    "%pwd"
   ]
  },
  {
   "cell_type": "code",
   "execution_count": 4,
   "metadata": {},
   "outputs": [],
   "source": [
    "path = '/home/huixiang/6015/week3'"
   ]
  },
  {
   "cell_type": "code",
   "execution_count": 5,
   "metadata": {},
   "outputs": [
    {
     "name": "stdout",
     "output_type": "stream",
     "text": [
      "(1309, 12)\n"
     ]
    },
    {
     "data": {
      "text/html": [
       "<div>\n",
       "<style scoped>\n",
       "    .dataframe tbody tr th:only-of-type {\n",
       "        vertical-align: middle;\n",
       "    }\n",
       "\n",
       "    .dataframe tbody tr th {\n",
       "        vertical-align: top;\n",
       "    }\n",
       "\n",
       "    .dataframe thead th {\n",
       "        text-align: right;\n",
       "    }\n",
       "</style>\n",
       "<table border=\"1\" class=\"dataframe\">\n",
       "  <thead>\n",
       "    <tr style=\"text-align: right;\">\n",
       "      <th></th>\n",
       "      <th>PassengerId</th>\n",
       "      <th>Survived</th>\n",
       "      <th>Pclass</th>\n",
       "      <th>Name</th>\n",
       "      <th>Sex</th>\n",
       "      <th>Age</th>\n",
       "      <th>SibSp</th>\n",
       "      <th>Parch</th>\n",
       "      <th>Ticket</th>\n",
       "      <th>Fare</th>\n",
       "      <th>Cabin</th>\n",
       "      <th>Embarked</th>\n",
       "    </tr>\n",
       "  </thead>\n",
       "  <tbody>\n",
       "    <tr>\n",
       "      <th>0</th>\n",
       "      <td>1</td>\n",
       "      <td>0</td>\n",
       "      <td>3</td>\n",
       "      <td>Braund, Mr. Owen Harris</td>\n",
       "      <td>male</td>\n",
       "      <td>22.0</td>\n",
       "      <td>1</td>\n",
       "      <td>0</td>\n",
       "      <td>A/5 21171</td>\n",
       "      <td>7.2500</td>\n",
       "      <td>NaN</td>\n",
       "      <td>S</td>\n",
       "    </tr>\n",
       "    <tr>\n",
       "      <th>1</th>\n",
       "      <td>2</td>\n",
       "      <td>1</td>\n",
       "      <td>1</td>\n",
       "      <td>Cumings, Mrs. John Bradley (Florence Briggs Th...</td>\n",
       "      <td>female</td>\n",
       "      <td>38.0</td>\n",
       "      <td>1</td>\n",
       "      <td>0</td>\n",
       "      <td>PC 17599</td>\n",
       "      <td>71.2833</td>\n",
       "      <td>C85</td>\n",
       "      <td>C</td>\n",
       "    </tr>\n",
       "  </tbody>\n",
       "</table>\n",
       "</div>"
      ],
      "text/plain": [
       "   PassengerId  Survived  Pclass  \\\n",
       "0            1         0       3   \n",
       "1            2         1       1   \n",
       "\n",
       "                                                Name     Sex   Age  SibSp  \\\n",
       "0                            Braund, Mr. Owen Harris    male  22.0      1   \n",
       "1  Cumings, Mrs. John Bradley (Florence Briggs Th...  female  38.0      1   \n",
       "\n",
       "   Parch     Ticket     Fare Cabin Embarked  \n",
       "0      0  A/5 21171   7.2500   NaN        S  \n",
       "1      0   PC 17599  71.2833   C85        C  "
      ]
     },
     "execution_count": 5,
     "metadata": {},
     "output_type": "execute_result"
    }
   ],
   "source": [
    "df = pd.read_csv(f'{path}/Titanic_full.csv')\n",
    "print(df.shape)\n",
    "df.head(2)"
   ]
  },
  {
   "cell_type": "markdown",
   "metadata": {},
   "source": [
    "## Preprocessing of the dataset\n",
    "\n",
    "1. We split training set and test test\n",
    "2. We try different imputation method\n",
    "3. We verify them in RandomForestClassifier"
   ]
  },
  {
   "cell_type": "code",
   "execution_count": 6,
   "metadata": {},
   "outputs": [
    {
     "name": "stdout",
     "output_type": "stream",
     "text": [
      "(1150, 12) (159, 12)\n",
      "<class 'pandas.core.frame.DataFrame'>\n",
      "RangeIndex: 1150 entries, 0 to 1149\n",
      "Data columns (total 12 columns):\n",
      "PassengerId    1150 non-null int64\n",
      "Survived       1150 non-null int64\n",
      "Pclass         1150 non-null int64\n",
      "Name           1150 non-null object\n",
      "Sex            1150 non-null object\n",
      "Age            920 non-null float64\n",
      "SibSp          1150 non-null int64\n",
      "Parch          1150 non-null int64\n",
      "Ticket         1150 non-null object\n",
      "Fare           1149 non-null float64\n",
      "Cabin          260 non-null object\n",
      "Embarked       1148 non-null object\n",
      "dtypes: float64(2), int64(5), object(5)\n",
      "memory usage: 107.9+ KB\n",
      "None\n"
     ]
    }
   ],
   "source": [
    "def mydf_splitter(my_df,num_rows):\n",
    "    return my_df[:num_rows].copy(),my_df[num_rows:]\n",
    "\n",
    "\n",
    "df_train,df_test = mydf_splitter(df,1150)\n",
    "\n",
    "print(df_train.shape,df_test.shape)\n",
    "print(df_train.info())"
   ]
  },
  {
   "cell_type": "code",
   "execution_count": 7,
   "metadata": {},
   "outputs": [],
   "source": [
    "#Define a function to convert object types and string types to category type\n",
    "\n",
    "def str_to_cat(my_df):\n",
    "    for label, content in my_df.items(): #my_df.items() is a generator in Python\n",
    "        if is_string_dtype(content): \n",
    "            my_df[label] = content.astype('category').cat.as_ordered()\n",
    "    return my_df"
   ]
  },
  {
   "cell_type": "code",
   "execution_count": 8,
   "metadata": {},
   "outputs": [],
   "source": [
    "df_train = str_to_cat(df_train)"
   ]
  },
  {
   "cell_type": "code",
   "execution_count": 9,
   "metadata": {
    "scrolled": true
   },
   "outputs": [
    {
     "data": {
      "text/html": [
       "<div>\n",
       "<style scoped>\n",
       "    .dataframe tbody tr th:only-of-type {\n",
       "        vertical-align: middle;\n",
       "    }\n",
       "\n",
       "    .dataframe tbody tr th {\n",
       "        vertical-align: top;\n",
       "    }\n",
       "\n",
       "    .dataframe thead th {\n",
       "        text-align: right;\n",
       "    }\n",
       "</style>\n",
       "<table border=\"1\" class=\"dataframe\">\n",
       "  <thead>\n",
       "    <tr style=\"text-align: right;\">\n",
       "      <th></th>\n",
       "      <th>PassengerId</th>\n",
       "      <th>Survived</th>\n",
       "      <th>Pclass</th>\n",
       "      <th>Name</th>\n",
       "      <th>Sex</th>\n",
       "      <th>Age</th>\n",
       "      <th>SibSp</th>\n",
       "      <th>Parch</th>\n",
       "      <th>Ticket</th>\n",
       "      <th>Fare</th>\n",
       "      <th>Cabin</th>\n",
       "      <th>Embarked</th>\n",
       "    </tr>\n",
       "  </thead>\n",
       "  <tbody>\n",
       "    <tr>\n",
       "      <th>0</th>\n",
       "      <td>1</td>\n",
       "      <td>0</td>\n",
       "      <td>3</td>\n",
       "      <td>Braund, Mr. Owen Harris</td>\n",
       "      <td>male</td>\n",
       "      <td>22.0</td>\n",
       "      <td>1</td>\n",
       "      <td>0</td>\n",
       "      <td>A/5 21171</td>\n",
       "      <td>7.2500</td>\n",
       "      <td>NaN</td>\n",
       "      <td>S</td>\n",
       "    </tr>\n",
       "    <tr>\n",
       "      <th>1</th>\n",
       "      <td>2</td>\n",
       "      <td>1</td>\n",
       "      <td>1</td>\n",
       "      <td>Cumings, Mrs. John Bradley (Florence Briggs Th...</td>\n",
       "      <td>female</td>\n",
       "      <td>38.0</td>\n",
       "      <td>1</td>\n",
       "      <td>0</td>\n",
       "      <td>PC 17599</td>\n",
       "      <td>71.2833</td>\n",
       "      <td>C85</td>\n",
       "      <td>C</td>\n",
       "    </tr>\n",
       "  </tbody>\n",
       "</table>\n",
       "</div>"
      ],
      "text/plain": [
       "   PassengerId  Survived  Pclass  \\\n",
       "0            1         0       3   \n",
       "1            2         1       1   \n",
       "\n",
       "                                                Name     Sex   Age  SibSp  \\\n",
       "0                            Braund, Mr. Owen Harris    male  22.0      1   \n",
       "1  Cumings, Mrs. John Bradley (Florence Briggs Th...  female  38.0      1   \n",
       "\n",
       "   Parch     Ticket     Fare Cabin Embarked  \n",
       "0      0  A/5 21171   7.2500   NaN        S  \n",
       "1      0   PC 17599  71.2833   C85        C  "
      ]
     },
     "execution_count": 9,
     "metadata": {},
     "output_type": "execute_result"
    }
   ],
   "source": [
    "df_train.head(2)"
   ]
  },
  {
   "cell_type": "code",
   "execution_count": 10,
   "metadata": {},
   "outputs": [
    {
     "data": {
      "text/plain": [
       "<matplotlib.axes._subplots.AxesSubplot at 0x7f65c16d8668>"
      ]
     },
     "execution_count": 10,
     "metadata": {},
     "output_type": "execute_result"
    },
    {
     "data": {
      "image/png": "[encoded data removed]",
      "text/plain": [
       "<Figure size 576x432 with 1 Axes>"
      ]
     },
     "metadata": {
      "needs_background": "light"
     },
     "output_type": "display_data"
    }
   ],
   "source": [
    "null_vals = df_train.isnull().sum()/len(df_train)*100\n",
    "null_vals = pd.DataFrame(null_vals)\n",
    "null_vals.reset_index(inplace = True)\n",
    "null_vals.columns = [\"Feature\",\"Percent missing\"]\n",
    "plt.figure(figsize = (8,6))\n",
    "plt.xticks(rotation=45)\n",
    "sns.barplot(x = \"Feature\",y =\"Percent missing\",data = null_vals)"
   ]
  },
  {
   "cell_type": "code",
   "execution_count": 11,
   "metadata": {},
   "outputs": [],
   "source": [
    "df_train=df_train.drop(['Cabin'], axis=1)"
   ]
  },
  {
   "cell_type": "code",
   "execution_count": 12,
   "metadata": {},
   "outputs": [
    {
     "name": "stdout",
     "output_type": "stream",
     "text": [
      "<class 'pandas.core.frame.DataFrame'>\n",
      "RangeIndex: 1150 entries, 0 to 1149\n",
      "Data columns (total 11 columns):\n",
      "PassengerId    1150 non-null int64\n",
      "Survived       1150 non-null int64\n",
      "Pclass         1150 non-null int64\n",
      "Name           1150 non-null category\n",
      "Sex            1150 non-null category\n",
      "Age            920 non-null float64\n",
      "SibSp          1150 non-null int64\n",
      "Parch          1150 non-null int64\n",
      "Ticket         1150 non-null category\n",
      "Fare           1149 non-null float64\n",
      "Embarked       1148 non-null category\n",
      "dtypes: category(4), float64(2), int64(5)\n",
      "memory usage: 165.4 KB\n"
     ]
    }
   ],
   "source": [
    "df_train.info()"
   ]
  },
  {
   "cell_type": "markdown",
   "metadata": {},
   "source": [
    "### Now we convert categorical value into numerical. Only by doing this we can use imputer from fancyimpute if there's null value in our dataframe"
   ]
  },
  {
   "cell_type": "code",
   "execution_count": 13,
   "metadata": {},
   "outputs": [],
   "source": [
    "def my_CategoricalConverter(df):\n",
    "    df_copy = df.copy()\n",
    "    for label, value in df.items():\n",
    "        if not is_numeric_dtype(value):\n",
    "            df_copy[label] = value.cat.codes + 1\n",
    "    return df_copy"
   ]
  },
  {
   "cell_type": "code",
   "execution_count": 14,
   "metadata": {},
   "outputs": [],
   "source": [
    "df_filled = my_CategoricalConverter(df_train)"
   ]
  },
  {
   "cell_type": "code",
   "execution_count": 15,
   "metadata": {
    "scrolled": true
   },
   "outputs": [
    {
     "name": "stdout",
     "output_type": "stream",
     "text": [
      "   PassengerId  Survived  Pclass  Name  Sex   Age  SibSp  Parch  Ticket  \\\n",
      "0            1         0       3   141    2  22.0      1      0     652   \n",
      "1            2         1       1   256    1  38.0      1      0     738   \n",
      "2            3         1       3   461    1  26.0      0      0     828   \n",
      "3            4         1       1   372    1  35.0      1      0      59   \n",
      "4            5         0       3    20    2  35.0      0      0     587   \n",
      "\n",
      "      Fare  Embarked  \n",
      "0   7.2500         3  \n",
      "1  71.2833         1  \n",
      "2   7.9250         3  \n",
      "3  53.1000         3  \n",
      "4   8.0500         3  \n",
      "<class 'pandas.core.frame.DataFrame'>\n",
      "RangeIndex: 1150 entries, 0 to 1149\n",
      "Data columns (total 11 columns):\n",
      "PassengerId    1150 non-null int64\n",
      "Survived       1150 non-null int64\n",
      "Pclass         1150 non-null int64\n",
      "Name           1150 non-null int16\n",
      "Sex            1150 non-null int8\n",
      "Age            920 non-null float64\n",
      "SibSp          1150 non-null int64\n",
      "Parch          1150 non-null int64\n",
      "Ticket         1150 non-null int16\n",
      "Fare           1149 non-null float64\n",
      "Embarked       1150 non-null int8\n",
      "dtypes: float64(2), int16(2), int64(5), int8(2)\n",
      "memory usage: 69.7 KB\n",
      "None\n"
     ]
    }
   ],
   "source": [
    "print(df_filled.head())\n",
    "print(df_filled.info())"
   ]
  },
  {
   "cell_type": "code",
   "execution_count": 16,
   "metadata": {},
   "outputs": [],
   "source": [
    "my_function=[SimpleFill, KNN, SoftImpute, IterativeSVD, IterativeImputer, MatrixFactorization]\n",
    "my_function_name=[]\n",
    "my_filled_df=[]"
   ]
  },
  {
   "cell_type": "code",
   "execution_count": 17,
   "metadata": {
    "scrolled": false
   },
   "outputs": [
    {
     "name": "stdout",
     "output_type": "stream",
     "text": [
      "Imputing row 1/1150 with 0 missing, elapsed time: 0.185\n",
      "Imputing row 101/1150 with 0 missing, elapsed time: 0.186\n",
      "Imputing row 201/1150 with 0 missing, elapsed time: 0.187\n",
      "Imputing row 301/1150 with 1 missing, elapsed time: 0.188\n",
      "Imputing row 401/1150 with 0 missing, elapsed time: 0.188\n",
      "Imputing row 501/1150 with 0 missing, elapsed time: 0.189\n",
      "Imputing row 601/1150 with 0 missing, elapsed time: 0.190\n",
      "Imputing row 701/1150 with 0 missing, elapsed time: 0.190\n",
      "Imputing row 801/1150 with 0 missing, elapsed time: 0.191\n",
      "Imputing row 901/1150 with 0 missing, elapsed time: 0.192\n",
      "Imputing row 1001/1150 with 0 missing, elapsed time: 0.193\n",
      "Imputing row 1101/1150 with 0 missing, elapsed time: 0.194\n",
      "[SoftImpute] Max Singular Value of X_init = 32817.783300\n",
      "[SoftImpute] Iter 1: observed MAE=6.806734 rank=4\n",
      "[SoftImpute] Iter 2: observed MAE=6.749063 rank=4\n",
      "[SoftImpute] Iter 3: observed MAE=6.748408 rank=4\n",
      "[SoftImpute] Iter 4: observed MAE=6.749247 rank=4\n",
      "[SoftImpute] Iter 5: observed MAE=6.749549 rank=4\n",
      "[SoftImpute] Iter 6: observed MAE=6.749646 rank=4\n",
      "[SoftImpute] Iter 7: observed MAE=6.749682 rank=4\n",
      "[SoftImpute] Iter 8: observed MAE=6.749699 rank=4\n",
      "[SoftImpute] Iter 9: observed MAE=6.749708 rank=4\n",
      "[SoftImpute] Stopped after iteration 9 for lambda=656.355666\n",
      "[IterativeSVD] Iter 1: observed MAE=61.272000\n",
      "[IterativeSVD] Iter 2: observed MAE=35.229147\n",
      "[IterativeSVD] Iter 3: observed MAE=1.448496\n",
      "[IterativeSVD] Iter 4: observed MAE=0.154427\n",
      "WARNING:tensorflow:From /home/huixiang/anaconda3/lib/python3.7/site-packages/tensorflow/python/framework/op_def_library.py:263: colocate_with (from tensorflow.python.framework.ops) is deprecated and will be removed in a future version.\n",
      "Instructions for updating:\n",
      "Colocations handled automatically by placer.\n",
      "WARNING:tensorflow:From /home/huixiang/anaconda3/lib/python3.7/site-packages/tensorflow/python/ops/math_ops.py:3066: to_int32 (from tensorflow.python.ops.math_ops) is deprecated and will be removed in a future version.\n",
      "Instructions for updating:\n",
      "Use tf.cast instead.\n",
      "Train on 11177 samples, validate on 1242 samples\n",
      "Epoch 1/10000\n",
      "11177/11177 [==============================] - 0s 25us/step - loss: 1.1264 - val_loss: 1.0874\n",
      "Epoch 2/10000\n",
      "11177/11177 [==============================] - 0s 1us/step - loss: 1.1234 - val_loss: 1.0870\n",
      "Epoch 3/10000\n",
      "11177/11177 [==============================] - 0s 1us/step - loss: 1.1212 - val_loss: 1.0866\n",
      "Epoch 4/10000\n",
      "11177/11177 [==============================] - 0s 1us/step - loss: 1.1191 - val_loss: 1.0863\n",
      "Epoch 5/10000\n",
      "11177/11177 [==============================] - 0s 1us/step - loss: 1.1171 - val_loss: 1.0859\n",
      "Epoch 6/10000\n",
      "11177/11177 [==============================] - 0s 1us/step - loss: 1.1151 - val_loss: 1.0855\n",
      "Epoch 7/10000\n",
      "11177/11177 [==============================] - 0s 1us/step - loss: 1.1130 - val_loss: 1.0851\n",
      "Epoch 8/10000\n",
      "11177/11177 [==============================] - 0s 1us/step - loss: 1.1109 - val_loss: 1.0847\n",
      "Epoch 9/10000\n",
      "11177/11177 [==============================] - 0s 1us/step - loss: 1.1087 - val_loss: 1.0842\n",
      "Epoch 10/10000\n",
      "11177/11177 [==============================] - 0s 1us/step - loss: 1.1065 - val_loss: 1.0838\n",
      "Epoch 11/10000\n",
      "11177/11177 [==============================] - 0s 1us/step - loss: 1.1043 - val_loss: 1.0834\n",
      "Epoch 12/10000\n",
      "11177/11177 [==============================] - 0s 1us/step - loss: 1.1020 - val_loss: 1.0830\n",
      "Epoch 13/10000\n",
      "11177/11177 [==============================] - 0s 1us/step - loss: 1.0997 - val_loss: 1.0826\n",
      "Epoch 14/10000\n",
      "11177/11177 [==============================] - 0s 1us/step - loss: 1.0975 - val_loss: 1.0822\n",
      "Epoch 15/10000\n",
      "11177/11177 [==============================] - 0s 1us/step - loss: 1.0951 - val_loss: 1.0818\n",
      "Epoch 16/10000\n",
      "11177/11177 [==============================] - 0s 1us/step - loss: 1.0928 - val_loss: 1.0814\n",
      "Epoch 17/10000\n",
      "11177/11177 [==============================] - 0s 1us/step - loss: 1.0905 - val_loss: 1.0810\n",
      "Epoch 18/10000\n",
      "11177/11177 [==============================] - 0s 1us/step - loss: 1.0882 - val_loss: 1.0806\n",
      "Epoch 19/10000\n",
      "11177/11177 [==============================] - 0s 1us/step - loss: 1.0859 - val_loss: 1.0802\n",
      "Epoch 20/10000\n",
      "11177/11177 [==============================] - 0s 1us/step - loss: 1.0836 - val_loss: 1.0798\n",
      "Epoch 21/10000\n",
      "11177/11177 [==============================] - 0s 1us/step - loss: 1.0812 - val_loss: 1.0794\n",
      "Epoch 22/10000\n",
      "11177/11177 [==============================] - 0s 1us/step - loss: 1.0789 - val_loss: 1.0790\n",
      "Epoch 23/10000\n",
      "11177/11177 [==============================] - 0s 1us/step - loss: 1.0766 - val_loss: 1.0787\n",
      "Epoch 24/10000\n",
      "11177/11177 [==============================] - 0s 1us/step - loss: 1.0743 - val_loss: 1.0783\n",
      "Epoch 25/10000\n",
      "11177/11177 [==============================] - 0s 1us/step - loss: 1.0720 - val_loss: 1.0780\n",
      "Epoch 26/10000\n",
      "11177/11177 [==============================] - 0s 1us/step - loss: 1.0698 - val_loss: 1.0776\n",
      "Epoch 27/10000\n",
      "11177/11177 [==============================] - 0s 1us/step - loss: 1.0675 - val_loss: 1.0773\n",
      "Epoch 28/10000\n",
      "11177/11177 [==============================] - 0s 1us/step - loss: 1.0652 - val_loss: 1.0769\n",
      "Epoch 29/10000\n",
      "11177/11177 [==============================] - 0s 1us/step - loss: 1.0630 - val_loss: 1.0766\n",
      "Epoch 30/10000\n",
      "11177/11177 [==============================] - 0s 1us/step - loss: 1.0608 - val_loss: 1.0763\n",
      "Epoch 31/10000\n",
      "11177/11177 [==============================] - 0s 1us/step - loss: 1.0585 - val_loss: 1.0759\n",
      "Epoch 32/10000\n",
      "11177/11177 [==============================] - 0s 1us/step - loss: 1.0563 - val_loss: 1.0756\n",
      "Epoch 33/10000\n",
      "11177/11177 [==============================] - 0s 1us/step - loss: 1.0541 - val_loss: 1.0753\n",
      "Epoch 34/10000\n",
      "11177/11177 [==============================] - 0s 1us/step - loss: 1.0519 - val_loss: 1.0750\n",
      "Epoch 35/10000\n",
      "11177/11177 [==============================] - 0s 1us/step - loss: 1.0498 - val_loss: 1.0747\n",
      "Epoch 36/10000\n",
      "11177/11177 [==============================] - 0s 1us/step - loss: 1.0476 - val_loss: 1.0744\n",
      "Epoch 37/10000\n",
      "11177/11177 [==============================] - 0s 1us/step - loss: 1.0455 - val_loss: 1.0741\n",
      "Epoch 38/10000\n",
      "11177/11177 [==============================] - 0s 1us/step - loss: 1.0433 - val_loss: 1.0738\n",
      "Epoch 39/10000\n",
      "11177/11177 [==============================] - 0s 1us/step - loss: 1.0412 - val_loss: 1.0735\n",
      "Epoch 40/10000\n",
      "11177/11177 [==============================] - 0s 1us/step - loss: 1.0391 - val_loss: 1.0733\n",
      "Epoch 41/10000\n",
      "11177/11177 [==============================] - 0s 1us/step - loss: 1.0370 - val_loss: 1.0730\n",
      "Epoch 42/10000\n",
      "11177/11177 [==============================] - 0s 1us/step - loss: 1.0349 - val_loss: 1.0727\n",
      "Epoch 43/10000\n",
      "11177/11177 [==============================] - 0s 1us/step - loss: 1.0329 - val_loss: 1.0725\n",
      "Epoch 44/10000\n",
      "11177/11177 [==============================] - 0s 1us/step - loss: 1.0308 - val_loss: 1.0722\n",
      "Epoch 45/10000\n",
      "11177/11177 [==============================] - 0s 1us/step - loss: 1.0288 - val_loss: 1.0720\n",
      "Epoch 46/10000\n",
      "11177/11177 [==============================] - 0s 1us/step - loss: 1.0268 - val_loss: 1.0717\n",
      "Epoch 47/10000\n",
      "11177/11177 [==============================] - 0s 1us/step - loss: 1.0247 - val_loss: 1.0715\n",
      "Epoch 48/10000\n",
      "11177/11177 [==============================] - 0s 1us/step - loss: 1.0227 - val_loss: 1.0712\n",
      "Epoch 49/10000\n",
      "11177/11177 [==============================] - 0s 1us/step - loss: 1.0208 - val_loss: 1.0710\n",
      "Epoch 50/10000\n",
      "11177/11177 [==============================] - 0s 1us/step - loss: 1.0188 - val_loss: 1.0707\n",
      "Epoch 51/10000\n",
      "11177/11177 [==============================] - 0s 1us/step - loss: 1.0168 - val_loss: 1.0705\n",
      "Epoch 52/10000\n",
      "11177/11177 [==============================] - 0s 1us/step - loss: 1.0148 - val_loss: 1.0703\n",
      "Epoch 53/10000\n",
      "11177/11177 [==============================] - 0s 1us/step - loss: 1.0129 - val_loss: 1.0701\n",
      "Epoch 54/10000\n",
      "11177/11177 [==============================] - 0s 1us/step - loss: 1.0110 - val_loss: 1.0698\n",
      "Epoch 55/10000\n",
      "11177/11177 [==============================] - 0s 1us/step - loss: 1.0090 - val_loss: 1.0697\n",
      "Epoch 56/10000\n",
      "11177/11177 [==============================] - 0s 1us/step - loss: 1.0071 - val_loss: 1.0694\n",
      "Epoch 57/10000\n",
      "11177/11177 [==============================] - 0s 1us/step - loss: 1.0052 - val_loss: 1.0693\n"
     ]
    },
    {
     "name": "stdout",
     "output_type": "stream",
     "text": [
      "Epoch 58/10000\n",
      "11177/11177 [==============================] - 0s 1us/step - loss: 1.0033 - val_loss: 1.0690\n",
      "Epoch 59/10000\n",
      "11177/11177 [==============================] - 0s 1us/step - loss: 1.0014 - val_loss: 1.0688\n"
     ]
    }
   ],
   "source": [
    "for f in my_function:\n",
    "    temp_filled_df = pd.DataFrame(f().fit_transform(df_filled),\n",
    "                                  index=df_filled.index, columns=df_filled.columns)\n",
    "    \n",
    "    my_function_name.append(f.__name__) # Everytime when the process is finished\n",
    "    my_filled_df.append(temp_filled_df)"
   ]
  },
  {
   "cell_type": "code",
   "execution_count": 18,
   "metadata": {},
   "outputs": [
    {
     "name": "stdout",
     "output_type": "stream",
     "text": [
      "['SimpleFill', 'KNN', 'SoftImpute', 'IterativeSVD', 'IterativeImputer', 'MatrixFactorization']\n"
     ]
    }
   ],
   "source": [
    "print(my_function_name)"
   ]
  },
  {
   "cell_type": "code",
   "execution_count": 19,
   "metadata": {},
   "outputs": [],
   "source": [
    "my_model=RandomForestClassifier()\n",
    "my_GradientBoosting = GradientBoostingClassifier()"
   ]
  },
  {
   "cell_type": "code",
   "execution_count": 20,
   "metadata": {},
   "outputs": [],
   "source": [
    "my_bagging_result=[]\n",
    "my_GradientBoosting_result=[]"
   ]
  },
  {
   "cell_type": "code",
   "execution_count": 21,
   "metadata": {},
   "outputs": [
    {
     "data": {
      "text/plain": [
       "6"
      ]
     },
     "execution_count": 21,
     "metadata": {},
     "output_type": "execute_result"
    }
   ],
   "source": [
    "len(my_filled_df)"
   ]
  },
  {
   "cell_type": "markdown",
   "metadata": {},
   "source": [
    "# I combined comparison between imputer and comparison bewteen Bagging and Gradient Boosting"
   ]
  },
  {
   "cell_type": "code",
   "execution_count": 22,
   "metadata": {},
   "outputs": [
    {
     "name": "stderr",
     "output_type": "stream",
     "text": [
      "/home/huixiang/anaconda3/lib/python3.7/site-packages/sklearn/ensemble/forest.py:246: FutureWarning: The default value of n_estimators will change from 10 in version 0.20 to 100 in 0.22.\n",
      "  \"10 in version 0.20 to 100 in 0.22.\", FutureWarning)\n"
     ]
    }
   ],
   "source": [
    "for index, df in enumerate(my_filled_df):\n",
    "    X_full = df.drop('Survived', axis=1)\n",
    "    y = df['Survived']\n",
    "    X_train, X_valid, y_train, y_valid = train_test_split(X_full, y, random_state = 0)\n",
    "    \n",
    "    my_model.fit(X_train, y_train)\n",
    "    y_pred = my_model.predict(X_valid)\n",
    "    my_bagging_result.append(accuracy_score(y_valid, y_pred))\n",
    "    \n",
    "    my_GradientBoosting.fit(X_train, y_train)\n",
    "    y_pred=my_GradientBoosting.predict(X_valid)\n",
    "    my_GradientBoosting_result.append(accuracy_score(y_valid, y_pred))\n",
    "    "
   ]
  },
  {
   "cell_type": "code",
   "execution_count": 30,
   "metadata": {},
   "outputs": [
    {
     "data": {
      "image/png": "[encoded data removed]",
      "text/plain": [
       "<Figure size 432x288 with 1 Axes>"
      ]
     },
     "metadata": {
      "needs_background": "light"
     },
     "output_type": "display_data"
    }
   ],
   "source": [
    "fig, ax = plt.subplots()\n",
    "\n",
    "plt.plot(my_function_name,my_bagging_result, label=\"bagging\")\n",
    "plt.plot(my_function_name, my_GradientBoosting_result, label='GradientBoosting')\n",
    "plt.xticks(rotation=45)\n",
    "\n",
    "plt.ylabel(\"accuracy\")\n",
    "\n",
    "legend = fig.legend(loc='upper center', shadow=True, fontsize='x-large')\n",
    "\n",
    "plt.show()"
   ]
  },
  {
   "cell_type": "markdown",
   "metadata": {},
   "source": [
    "## Gradient boosting and Random Forest (aka bagging) both are ensembles of decision trees. The difference between them is that\n",
    "1. In random forest, **each tree is equal**. On the other hand, in Gradient Boosting, the **weights** of decisino trees are **different**\n",
    "2. The detailed purpose of generating decision tree is different. In random forest, each tree is generated **equally and randomly**. In gradient boosting, each tree **tries to correct the mistakes of previous one.**"
   ]
  },
  {
   "cell_type": "markdown",
   "metadata": {},
   "source": [
    "## Doing Grid search on numbers of decision trees to see the influence of n_estimator\n"
   ]
  },
  {
   "cell_type": "code",
   "execution_count": 24,
   "metadata": {},
   "outputs": [],
   "source": [
    "df=my_filled_df[0] #Using SimpleFill dataFrame\n",
    "X_full = df.drop('Survived', axis=1)\n",
    "y = df['Survived']\n",
    "X_train, X_valid, y_train, y_valid = train_test_split(X_full, y, random_state = 0)"
   ]
  },
  {
   "cell_type": "code",
   "execution_count": 25,
   "metadata": {},
   "outputs": [],
   "source": [
    "model = RandomForestClassifier()\n",
    "param_grid = [{'n_estimators': range(10,1010,40)}]"
   ]
  },
  {
   "cell_type": "code",
   "execution_count": 26,
   "metadata": {},
   "outputs": [
    {
     "name": "stderr",
     "output_type": "stream",
     "text": [
      "/home/huixiang/anaconda3/lib/python3.7/site-packages/sklearn/model_selection/_split.py:2053: FutureWarning: You should specify a value for 'cv' instead of relying on the default value. The default value will change from 3 to 5 in version 0.22.\n",
      "  warnings.warn(CV_WARNING, FutureWarning)\n"
     ]
    },
    {
     "data": {
      "text/plain": [
       "GridSearchCV(cv='warn', error_score='raise-deprecating',\n",
       "       estimator=RandomForestClassifier(bootstrap=True, class_weight=None, criterion='gini',\n",
       "            max_depth=None, max_features='auto', max_leaf_nodes=None,\n",
       "            min_impurity_decrease=0.0, min_impurity_split=None,\n",
       "            min_samples_leaf=1, min_samples_split=2,\n",
       "            min_weight_fraction_leaf=0.0, n_estimators='warn', n_jobs=None,\n",
       "            oob_score=False, random_state=None, verbose=0,\n",
       "            warm_start=False),\n",
       "       fit_params=None, iid='warn', n_jobs=None,\n",
       "       param_grid=[{'n_estimators': range(10, 1010, 40)}],\n",
       "       pre_dispatch='2*n_jobs', refit=True, return_train_score='warn',\n",
       "       scoring='accuracy', verbose=0)"
      ]
     },
     "execution_count": 26,
     "metadata": {},
     "output_type": "execute_result"
    }
   ],
   "source": [
    "grid = GridSearchCV(model, param_grid, scoring='accuracy')\n",
    "grid.fit(X_train, y_train)"
   ]
  },
  {
   "cell_type": "code",
   "execution_count": 27,
   "metadata": {},
   "outputs": [
    {
     "name": "stderr",
     "output_type": "stream",
     "text": [
      "/home/huixiang/anaconda3/lib/python3.7/site-packages/sklearn/utils/deprecation.py:125: FutureWarning: You are accessing a training score ('split0_train_score'), which will not be available by default any more in 0.21. If you need training scores, please set return_train_score=True\n",
      "  warnings.warn(*warn_args, **warn_kwargs)\n",
      "/home/huixiang/anaconda3/lib/python3.7/site-packages/sklearn/utils/deprecation.py:125: FutureWarning: You are accessing a training score ('split1_train_score'), which will not be available by default any more in 0.21. If you need training scores, please set return_train_score=True\n",
      "  warnings.warn(*warn_args, **warn_kwargs)\n",
      "/home/huixiang/anaconda3/lib/python3.7/site-packages/sklearn/utils/deprecation.py:125: FutureWarning: You are accessing a training score ('split2_train_score'), which will not be available by default any more in 0.21. If you need training scores, please set return_train_score=True\n",
      "  warnings.warn(*warn_args, **warn_kwargs)\n",
      "/home/huixiang/anaconda3/lib/python3.7/site-packages/sklearn/utils/deprecation.py:125: FutureWarning: You are accessing a training score ('mean_train_score'), which will not be available by default any more in 0.21. If you need training scores, please set return_train_score=True\n",
      "  warnings.warn(*warn_args, **warn_kwargs)\n",
      "/home/huixiang/anaconda3/lib/python3.7/site-packages/sklearn/utils/deprecation.py:125: FutureWarning: You are accessing a training score ('std_train_score'), which will not be available by default any more in 0.21. If you need training scores, please set return_train_score=True\n",
      "  warnings.warn(*warn_args, **warn_kwargs)\n"
     ]
    }
   ],
   "source": [
    "grid_pd = pd.DataFrame(grid.cv_results_)"
   ]
  },
  {
   "cell_type": "code",
   "execution_count": 28,
   "metadata": {},
   "outputs": [
    {
     "data": {
      "image/png": "[encoded data removed]",
      "text/plain": [
       "<Figure size 432x288 with 2 Axes>"
      ]
     },
     "metadata": {
      "needs_background": "light"
     },
     "output_type": "display_data"
    }
   ],
   "source": [
    "fig, ax = plt.subplots()\n",
    "ax_c = ax.twinx()\n",
    "\n",
    "ax.set_ylabel('mean_test_score')\n",
    "ax.plot(grid_pd['param_n_estimators'], grid_pd['mean_test_score'], label='score')\n",
    "\n",
    "ax_c.set_ylabel('mean_score_time')\n",
    "ax_c.plot(grid_pd['param_n_estimators'], grid_pd['mean_score_time'],color='r', label='time')\n",
    "\n",
    "\n",
    "fig.legend(loc='upper center', shadow=True, fontsize='x-large')\n",
    "plt.ylabel('mean_test_score')\n",
    "plt.show()"
   ]
  },
  {
   "cell_type": "markdown",
   "metadata": {},
   "source": [
    "###  From the graph above, we can see that time increase linearly with the increase of the amount of estimators. The score increase significantly at first, but it won't increase after the amount of estimators is high enough"
   ]
  },
  {
   "cell_type": "code",
   "execution_count": null,
   "metadata": {},
   "outputs": [],
   "source": []
  }
 ],
 "metadata": {
  "kernelspec": {
   "display_name": "Python 3",
   "language": "python",
   "name": "python3"
  },
  "language_info": {
   "codemirror_mode": {
    "name": "ipython",
    "version": 3
   },
   "file_extension": ".py",
   "mimetype": "text/x-python",
   "name": "python",
   "nbconvert_exporter": "python",
   "pygments_lexer": "ipython3",
   "version": "3.7.1"
  }
 },
 "nbformat": 4,
 "nbformat_minor": 2
}
