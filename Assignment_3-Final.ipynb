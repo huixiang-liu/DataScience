{
 "cells": [
  {
   "cell_type": "code",
   "execution_count": 1,
   "metadata": {},
   "outputs": [
    {
     "name": "stderr",
     "output_type": "stream",
     "text": [
      "Using TensorFlow backend.\n"
     ]
    }
   ],
   "source": [
    "'''Import necessary packages'''\n",
    "from keras.wrappers.scikit_learn import KerasRegressor\n",
    "from sklearn.model_selection import cross_val_score\n",
    "from sklearn.model_selection import KFold\n",
    "from sklearn.preprocessing import StandardScaler\n",
    "from sklearn.pipeline import Pipeline\n",
    "from sklearn.metrics import mean_squared_error\n",
    "from keras.models import Sequential\n",
    "from keras.layers import Dense\n",
    "from sklearn.model_selection import train_test_split\n",
    "from pandas.api.types import is_string_dtype,is_numeric_dtype\n",
    "import seaborn as sns\n",
    "import numpy as np\n",
    "import pandas as pd\n",
    "from sklearn import preprocessing\n",
    "from sklearn.preprocessing import LabelEncoder, OneHotEncoder\n",
    "import matplotlib.pyplot as plt\n",
    "%matplotlib inline"
   ]
  },
  {
   "cell_type": "code",
   "execution_count": 2,
   "metadata": {},
   "outputs": [
    {
     "data": {
      "text/plain": [
       "'/home/huixiang/6015/week4'"
      ]
     },
     "execution_count": 2,
     "metadata": {},
     "output_type": "execute_result"
    }
   ],
   "source": [
    "%pwd"
   ]
  },
  {
   "cell_type": "code",
   "execution_count": 3,
   "metadata": {},
   "outputs": [],
   "source": [
    "path = '/home/huixiang/6015/week4'"
   ]
  },
  {
   "cell_type": "code",
   "execution_count": 4,
   "metadata": {},
   "outputs": [
    {
     "name": "stdout",
     "output_type": "stream",
     "text": [
      "(537577, 12)\n"
     ]
    },
    {
     "data": {
      "text/html": [
       "<div>\n",
       "<style scoped>\n",
       "    .dataframe tbody tr th:only-of-type {\n",
       "        vertical-align: middle;\n",
       "    }\n",
       "\n",
       "    .dataframe tbody tr th {\n",
       "        vertical-align: top;\n",
       "    }\n",
       "\n",
       "    .dataframe thead th {\n",
       "        text-align: right;\n",
       "    }\n",
       "</style>\n",
       "<table border=\"1\" class=\"dataframe\">\n",
       "  <thead>\n",
       "    <tr style=\"text-align: right;\">\n",
       "      <th></th>\n",
       "      <th>User_ID</th>\n",
       "      <th>Product_ID</th>\n",
       "      <th>Gender</th>\n",
       "      <th>Age</th>\n",
       "      <th>Occupation</th>\n",
       "      <th>City_Category</th>\n",
       "      <th>Stay_In_Current_City_Years</th>\n",
       "      <th>Marital_Status</th>\n",
       "      <th>Product_Category_1</th>\n",
       "      <th>Product_Category_2</th>\n",
       "      <th>Product_Category_3</th>\n",
       "      <th>Purchase</th>\n",
       "    </tr>\n",
       "  </thead>\n",
       "  <tbody>\n",
       "    <tr>\n",
       "      <th>0</th>\n",
       "      <td>1000001</td>\n",
       "      <td>P00069042</td>\n",
       "      <td>F</td>\n",
       "      <td>0-17</td>\n",
       "      <td>10</td>\n",
       "      <td>A</td>\n",
       "      <td>2</td>\n",
       "      <td>0</td>\n",
       "      <td>3</td>\n",
       "      <td>NaN</td>\n",
       "      <td>NaN</td>\n",
       "      <td>8370</td>\n",
       "    </tr>\n",
       "    <tr>\n",
       "      <th>1</th>\n",
       "      <td>1000001</td>\n",
       "      <td>P00248942</td>\n",
       "      <td>F</td>\n",
       "      <td>0-17</td>\n",
       "      <td>10</td>\n",
       "      <td>A</td>\n",
       "      <td>2</td>\n",
       "      <td>0</td>\n",
       "      <td>1</td>\n",
       "      <td>6.0</td>\n",
       "      <td>14.0</td>\n",
       "      <td>15200</td>\n",
       "    </tr>\n",
       "  </tbody>\n",
       "</table>\n",
       "</div>"
      ],
      "text/plain": [
       "   User_ID Product_ID Gender   Age  Occupation City_Category  \\\n",
       "0  1000001  P00069042      F  0-17          10             A   \n",
       "1  1000001  P00248942      F  0-17          10             A   \n",
       "\n",
       "  Stay_In_Current_City_Years  Marital_Status  Product_Category_1  \\\n",
       "0                          2               0                   3   \n",
       "1                          2               0                   1   \n",
       "\n",
       "   Product_Category_2  Product_Category_3  Purchase  \n",
       "0                 NaN                 NaN      8370  \n",
       "1                 6.0                14.0     15200  "
      ]
     },
     "execution_count": 4,
     "metadata": {},
     "output_type": "execute_result"
    }
   ],
   "source": [
    "df = pd.read_csv(f'{path}/BlackFriday.csv')\n",
    "print(df.shape)\n",
    "df.head(2)"
   ]
  },
  {
   "cell_type": "code",
   "execution_count": 5,
   "metadata": {},
   "outputs": [],
   "source": [
    "def str_to_cat(my_df):\n",
    "    for key, value in my_df.items():\n",
    "        if is_string_dtype(value):\n",
    "            my_df[key] = value.astype('category') # check what does .cat.asordered() do\n",
    "    return my_df"
   ]
  },
  {
   "cell_type": "code",
   "execution_count": 6,
   "metadata": {},
   "outputs": [],
   "source": [
    "# Now comes the hardest part: define the imputer method\n",
    "def mydf_to_nums(df, label, value):#convert Nan. to 0 by add 1\n",
    "    if not is_numeric_dtype(value): # if this is not a numeric type, we add it by one\n",
    "        df[label] = value.cat.codes + 1\n",
    "        \n",
    "def my_imputer(df, label, value, imputed_table):\n",
    "    if is_numeric_dtype(value): #only impute numeric columns\n",
    "        if pd.isnull(value).sum() or (label in imputed_table): # if there's null value in this column or this column\n",
    "                                                               # has been imputed\n",
    "            df[label + '_na'] = pd.isnull(value) #add another column to mark if this is a imputed value or not\n",
    "            filler = imputed_table[label] if label in imputed_table else value.median() #check table first, otherwise\n",
    "                                                                                        # we calculate median\n",
    "            df[label] = value.fillna(filler)\n",
    "            imputed_table[label] = filler # add the imputed number in the table\n",
    "    return imputed_table\n",
    "\n",
    "def my_preprocessor(df, imputed_table):\n",
    "    \n",
    "    if imputed_table is None:\n",
    "        imputed_table = dict()\n",
    "    for label, value in df.items():\n",
    "        imputed_table = my_imputer(df, label, value, imputed_table)\n",
    "    for label, value in df.items():\n",
    "        mydf_to_nums(df, label, value)\n",
    "    df = pd.get_dummies(df, dummy_na = True) #https://pandas.pydata.org/pandas-docs/stable/reference/api/pandas.get_dummies.html?highlight=get_dummies#pandas.get_dummies\n",
    "    result = [df, imputed_table]\n",
    "    \n",
    "    return result\n",
    "    \n",
    "    "
   ]
  },
  {
   "cell_type": "code",
   "execution_count": 7,
   "metadata": {},
   "outputs": [],
   "source": [
    "df = str_to_cat(df)"
   ]
  },
  {
   "cell_type": "code",
   "execution_count": 8,
   "metadata": {},
   "outputs": [],
   "source": [
    "df, impute_table = my_preprocessor(df, None)"
   ]
  },
  {
   "cell_type": "code",
   "execution_count": 9,
   "metadata": {},
   "outputs": [
    {
     "data": {
      "text/plain": [
       "{'Product_Category_2': 9.0, 'Product_Category_3': 14.0}"
      ]
     },
     "execution_count": 9,
     "metadata": {},
     "output_type": "execute_result"
    }
   ],
   "source": [
    "impute_table"
   ]
  },
  {
   "cell_type": "code",
   "execution_count": 10,
   "metadata": {},
   "outputs": [
    {
     "name": "stdout",
     "output_type": "stream",
     "text": [
      "(537577, 13) (537577, 1)\n"
     ]
    }
   ],
   "source": [
    "X = df.iloc[:, :-1]\n",
    "y = df.iloc[:, -1:]\n",
    "print(X.shape, y.shape)"
   ]
  },
  {
   "cell_type": "code",
   "execution_count": 11,
   "metadata": {},
   "outputs": [
    {
     "data": {
      "text/html": [
       "<div>\n",
       "<style scoped>\n",
       "    .dataframe tbody tr th:only-of-type {\n",
       "        vertical-align: middle;\n",
       "    }\n",
       "\n",
       "    .dataframe tbody tr th {\n",
       "        vertical-align: top;\n",
       "    }\n",
       "\n",
       "    .dataframe thead th {\n",
       "        text-align: right;\n",
       "    }\n",
       "</style>\n",
       "<table border=\"1\" class=\"dataframe\">\n",
       "  <thead>\n",
       "    <tr style=\"text-align: right;\">\n",
       "      <th></th>\n",
       "      <th>User_ID</th>\n",
       "      <th>Product_ID</th>\n",
       "      <th>Gender</th>\n",
       "      <th>Age</th>\n",
       "      <th>Occupation</th>\n",
       "      <th>City_Category</th>\n",
       "      <th>Stay_In_Current_City_Years</th>\n",
       "      <th>Marital_Status</th>\n",
       "      <th>Product_Category_1</th>\n",
       "      <th>Product_Category_2</th>\n",
       "      <th>Product_Category_3</th>\n",
       "      <th>Purchase</th>\n",
       "      <th>Product_Category_2_na</th>\n",
       "    </tr>\n",
       "  </thead>\n",
       "  <tbody>\n",
       "    <tr>\n",
       "      <th>0</th>\n",
       "      <td>1000001</td>\n",
       "      <td>671</td>\n",
       "      <td>1</td>\n",
       "      <td>1</td>\n",
       "      <td>10</td>\n",
       "      <td>1</td>\n",
       "      <td>3</td>\n",
       "      <td>0</td>\n",
       "      <td>3</td>\n",
       "      <td>9.0</td>\n",
       "      <td>14.0</td>\n",
       "      <td>8370</td>\n",
       "      <td>True</td>\n",
       "    </tr>\n",
       "    <tr>\n",
       "      <th>1</th>\n",
       "      <td>1000001</td>\n",
       "      <td>2375</td>\n",
       "      <td>1</td>\n",
       "      <td>1</td>\n",
       "      <td>10</td>\n",
       "      <td>1</td>\n",
       "      <td>3</td>\n",
       "      <td>0</td>\n",
       "      <td>1</td>\n",
       "      <td>6.0</td>\n",
       "      <td>14.0</td>\n",
       "      <td>15200</td>\n",
       "      <td>False</td>\n",
       "    </tr>\n",
       "  </tbody>\n",
       "</table>\n",
       "</div>"
      ],
      "text/plain": [
       "   User_ID  Product_ID  Gender  Age  Occupation  City_Category  \\\n",
       "0  1000001         671       1    1          10              1   \n",
       "1  1000001        2375       1    1          10              1   \n",
       "\n",
       "   Stay_In_Current_City_Years  Marital_Status  Product_Category_1  \\\n",
       "0                           3               0                   3   \n",
       "1                           3               0                   1   \n",
       "\n",
       "   Product_Category_2  Product_Category_3  Purchase  Product_Category_2_na  \n",
       "0                 9.0                14.0      8370                   True  \n",
       "1                 6.0                14.0     15200                  False  "
      ]
     },
     "execution_count": 11,
     "metadata": {},
     "output_type": "execute_result"
    }
   ],
   "source": [
    "X.head(2)"
   ]
  },
  {
   "cell_type": "code",
   "execution_count": 12,
   "metadata": {},
   "outputs": [
    {
     "name": "stdout",
     "output_type": "stream",
     "text": [
      "<class 'pandas.core.frame.DataFrame'>\n",
      "RangeIndex: 537577 entries, 0 to 537576\n",
      "Data columns (total 13 columns):\n",
      "User_ID                       537577 non-null int64\n",
      "Product_ID                    537577 non-null int16\n",
      "Gender                        537577 non-null int8\n",
      "Age                           537577 non-null int8\n",
      "Occupation                    537577 non-null int64\n",
      "City_Category                 537577 non-null int8\n",
      "Stay_In_Current_City_Years    537577 non-null int8\n",
      "Marital_Status                537577 non-null int64\n",
      "Product_Category_1            537577 non-null int64\n",
      "Product_Category_2            537577 non-null float64\n",
      "Product_Category_3            537577 non-null float64\n",
      "Purchase                      537577 non-null int64\n",
      "Product_Category_2_na         537577 non-null bool\n",
      "dtypes: bool(1), float64(2), int16(1), int64(5), int8(4)\n",
      "memory usage: 32.3 MB\n",
      "None\n"
     ]
    }
   ],
   "source": [
    "print(X.info())"
   ]
  },
  {
   "cell_type": "code",
   "execution_count": 13,
   "metadata": {},
   "outputs": [
    {
     "data": {
      "text/plain": [
       "{'Product_Category_2': 9.0, 'Product_Category_3': 14.0}"
      ]
     },
     "execution_count": 13,
     "metadata": {},
     "output_type": "execute_result"
    }
   ],
   "source": [
    "impute_table"
   ]
  },
  {
   "cell_type": "code",
   "execution_count": 14,
   "metadata": {},
   "outputs": [
    {
     "name": "stderr",
     "output_type": "stream",
     "text": [
      "/home/huixiang/anaconda3/lib/python3.7/site-packages/ipykernel_launcher.py:1: DataConversionWarning: Data with input dtype bool, int8, int16, int64, float64 were all converted to float64 by the scale function.\n",
      "  \"\"\"Entry point for launching an IPython kernel.\n"
     ]
    }
   ],
   "source": [
    "X_scaled = pd.DataFrame(preprocessing.scale(X))"
   ]
  },
  {
   "cell_type": "code",
   "execution_count": 15,
   "metadata": {
    "scrolled": true
   },
   "outputs": [
    {
     "data": {
      "text/html": [
       "<div>\n",
       "<style scoped>\n",
       "    .dataframe tbody tr th:only-of-type {\n",
       "        vertical-align: middle;\n",
       "    }\n",
       "\n",
       "    .dataframe tbody tr th {\n",
       "        vertical-align: top;\n",
       "    }\n",
       "\n",
       "    .dataframe thead th {\n",
       "        text-align: right;\n",
       "    }\n",
       "</style>\n",
       "<table border=\"1\" class=\"dataframe\">\n",
       "  <thead>\n",
       "    <tr style=\"text-align: right;\">\n",
       "      <th></th>\n",
       "      <th>0</th>\n",
       "      <th>1</th>\n",
       "      <th>2</th>\n",
       "      <th>3</th>\n",
       "      <th>4</th>\n",
       "      <th>5</th>\n",
       "      <th>6</th>\n",
       "      <th>7</th>\n",
       "      <th>8</th>\n",
       "      <th>9</th>\n",
       "      <th>10</th>\n",
       "      <th>11</th>\n",
       "      <th>12</th>\n",
       "    </tr>\n",
       "  </thead>\n",
       "  <tbody>\n",
       "    <tr>\n",
       "      <th>0</th>\n",
       "      <td>-1.744554</td>\n",
       "      <td>-1.019705</td>\n",
       "      <td>-1.751138</td>\n",
       "      <td>-1.844439</td>\n",
       "      <td>0.293877</td>\n",
       "      <td>-1.369841</td>\n",
       "      <td>0.108962</td>\n",
       "      <td>-0.831545</td>\n",
       "      <td>-0.612032</td>\n",
       "      <td>-0.136864</td>\n",
       "      <td>0.172177</td>\n",
       "      <td>-0.193507</td>\n",
       "      <td>1.489729</td>\n",
       "    </tr>\n",
       "    <tr>\n",
       "      <th>1</th>\n",
       "      <td>-1.744554</td>\n",
       "      <td>0.679918</td>\n",
       "      <td>-1.751138</td>\n",
       "      <td>-1.844439</td>\n",
       "      <td>0.293877</td>\n",
       "      <td>-1.369841</td>\n",
       "      <td>0.108962</td>\n",
       "      <td>-0.831545</td>\n",
       "      <td>-1.145266</td>\n",
       "      <td>-0.844110</td>\n",
       "      <td>0.172177</td>\n",
       "      <td>1.177699</td>\n",
       "      <td>-0.671263</td>\n",
       "    </tr>\n",
       "    <tr>\n",
       "      <th>2</th>\n",
       "      <td>-1.744554</td>\n",
       "      <td>-0.840167</td>\n",
       "      <td>-1.751138</td>\n",
       "      <td>-1.844439</td>\n",
       "      <td>0.293877</td>\n",
       "      <td>-1.369841</td>\n",
       "      <td>0.108962</td>\n",
       "      <td>-0.831545</td>\n",
       "      <td>1.787522</td>\n",
       "      <td>-0.136864</td>\n",
       "      <td>0.172177</td>\n",
       "      <td>-1.588402</td>\n",
       "      <td>1.489729</td>\n",
       "    </tr>\n",
       "    <tr>\n",
       "      <th>3</th>\n",
       "      <td>-1.744554</td>\n",
       "      <td>-0.864106</td>\n",
       "      <td>-1.751138</td>\n",
       "      <td>-1.844439</td>\n",
       "      <td>0.293877</td>\n",
       "      <td>-1.369841</td>\n",
       "      <td>0.108962</td>\n",
       "      <td>-0.831545</td>\n",
       "      <td>1.787522</td>\n",
       "      <td>1.041879</td>\n",
       "      <td>0.172177</td>\n",
       "      <td>-1.661681</td>\n",
       "      <td>-0.671263</td>\n",
       "    </tr>\n",
       "    <tr>\n",
       "      <th>4</th>\n",
       "      <td>-1.743970</td>\n",
       "      <td>1.036998</td>\n",
       "      <td>0.571057</td>\n",
       "      <td>2.591521</td>\n",
       "      <td>1.213543</td>\n",
       "      <td>1.263032</td>\n",
       "      <td>1.659557</td>\n",
       "      <td>-0.831545</td>\n",
       "      <td>0.721053</td>\n",
       "      <td>-0.136864</td>\n",
       "      <td>0.172177</td>\n",
       "      <td>-0.274012</td>\n",
       "      <td>1.489729</td>\n",
       "    </tr>\n",
       "  </tbody>\n",
       "</table>\n",
       "</div>"
      ],
      "text/plain": [
       "         0         1         2         3         4         5         6   \\\n",
       "0 -1.744554 -1.019705 -1.751138 -1.844439  0.293877 -1.369841  0.108962   \n",
       "1 -1.744554  0.679918 -1.751138 -1.844439  0.293877 -1.369841  0.108962   \n",
       "2 -1.744554 -0.840167 -1.751138 -1.844439  0.293877 -1.369841  0.108962   \n",
       "3 -1.744554 -0.864106 -1.751138 -1.844439  0.293877 -1.369841  0.108962   \n",
       "4 -1.743970  1.036998  0.571057  2.591521  1.213543  1.263032  1.659557   \n",
       "\n",
       "         7         8         9         10        11        12  \n",
       "0 -0.831545 -0.612032 -0.136864  0.172177 -0.193507  1.489729  \n",
       "1 -0.831545 -1.145266 -0.844110  0.172177  1.177699 -0.671263  \n",
       "2 -0.831545  1.787522 -0.136864  0.172177 -1.588402  1.489729  \n",
       "3 -0.831545  1.787522  1.041879  0.172177 -1.661681 -0.671263  \n",
       "4 -0.831545  0.721053 -0.136864  0.172177 -0.274012  1.489729  "
      ]
     },
     "execution_count": 15,
     "metadata": {},
     "output_type": "execute_result"
    }
   ],
   "source": [
    "X_scaled.head()"
   ]
  },
  {
   "cell_type": "code",
   "execution_count": 16,
   "metadata": {},
   "outputs": [],
   "source": [
    "X_scaled.columns = X.columns"
   ]
  },
  {
   "cell_type": "code",
   "execution_count": 17,
   "metadata": {},
   "outputs": [
    {
     "data": {
      "text/html": [
       "<div>\n",
       "<style scoped>\n",
       "    .dataframe tbody tr th:only-of-type {\n",
       "        vertical-align: middle;\n",
       "    }\n",
       "\n",
       "    .dataframe tbody tr th {\n",
       "        vertical-align: top;\n",
       "    }\n",
       "\n",
       "    .dataframe thead th {\n",
       "        text-align: right;\n",
       "    }\n",
       "</style>\n",
       "<table border=\"1\" class=\"dataframe\">\n",
       "  <thead>\n",
       "    <tr style=\"text-align: right;\">\n",
       "      <th></th>\n",
       "      <th>User_ID</th>\n",
       "      <th>Product_ID</th>\n",
       "      <th>Gender</th>\n",
       "      <th>Age</th>\n",
       "      <th>Occupation</th>\n",
       "      <th>City_Category</th>\n",
       "      <th>Stay_In_Current_City_Years</th>\n",
       "      <th>Marital_Status</th>\n",
       "      <th>Product_Category_1</th>\n",
       "      <th>Product_Category_2</th>\n",
       "      <th>Product_Category_3</th>\n",
       "      <th>Purchase</th>\n",
       "      <th>Product_Category_2_na</th>\n",
       "    </tr>\n",
       "  </thead>\n",
       "  <tbody>\n",
       "    <tr>\n",
       "      <th>count</th>\n",
       "      <td>5.375770e+05</td>\n",
       "      <td>5.375770e+05</td>\n",
       "      <td>5.375770e+05</td>\n",
       "      <td>5.375770e+05</td>\n",
       "      <td>5.375770e+05</td>\n",
       "      <td>5.375770e+05</td>\n",
       "      <td>5.375770e+05</td>\n",
       "      <td>5.375770e+05</td>\n",
       "      <td>5.375770e+05</td>\n",
       "      <td>5.375770e+05</td>\n",
       "      <td>5.375770e+05</td>\n",
       "      <td>5.375770e+05</td>\n",
       "      <td>5.375770e+05</td>\n",
       "    </tr>\n",
       "    <tr>\n",
       "      <th>mean</th>\n",
       "      <td>1.449724e-14</td>\n",
       "      <td>-1.926964e-16</td>\n",
       "      <td>8.682448e-15</td>\n",
       "      <td>-5.272989e-15</td>\n",
       "      <td>-1.187239e-15</td>\n",
       "      <td>8.572032e-16</td>\n",
       "      <td>-9.861743e-16</td>\n",
       "      <td>2.249424e-15</td>\n",
       "      <td>-1.770383e-15</td>\n",
       "      <td>1.259792e-15</td>\n",
       "      <td>1.742834e-14</td>\n",
       "      <td>-2.559215e-16</td>\n",
       "      <td>-8.675725e-15</td>\n",
       "    </tr>\n",
       "    <tr>\n",
       "      <th>std</th>\n",
       "      <td>1.000001e+00</td>\n",
       "      <td>1.000001e+00</td>\n",
       "      <td>1.000001e+00</td>\n",
       "      <td>1.000001e+00</td>\n",
       "      <td>1.000001e+00</td>\n",
       "      <td>1.000001e+00</td>\n",
       "      <td>1.000001e+00</td>\n",
       "      <td>1.000001e+00</td>\n",
       "      <td>1.000001e+00</td>\n",
       "      <td>1.000001e+00</td>\n",
       "      <td>1.000001e+00</td>\n",
       "      <td>1.000001e+00</td>\n",
       "      <td>1.000001e+00</td>\n",
       "    </tr>\n",
       "    <tr>\n",
       "      <th>min</th>\n",
       "      <td>-1.744554e+00</td>\n",
       "      <td>-1.687984e+00</td>\n",
       "      <td>-1.751138e+00</td>\n",
       "      <td>-1.844439e+00</td>\n",
       "      <td>-1.238898e+00</td>\n",
       "      <td>-1.369841e+00</td>\n",
       "      <td>-1.441634e+00</td>\n",
       "      <td>-8.315450e-01</td>\n",
       "      <td>-1.145266e+00</td>\n",
       "      <td>-1.787104e+00</td>\n",
       "      <td>-4.487181e+00</td>\n",
       "      <td>-1.836745e+00</td>\n",
       "      <td>-6.712628e-01</td>\n",
       "    </tr>\n",
       "    <tr>\n",
       "      <th>25%</th>\n",
       "      <td>-8.731071e-01</td>\n",
       "      <td>-7.633651e-01</td>\n",
       "      <td>5.710572e-01</td>\n",
       "      <td>-3.657857e-01</td>\n",
       "      <td>-9.323427e-01</td>\n",
       "      <td>-1.369841e+00</td>\n",
       "      <td>-6.663361e-01</td>\n",
       "      <td>-8.315450e-01</td>\n",
       "      <td>-1.145266e+00</td>\n",
       "      <td>-3.726127e-01</td>\n",
       "      <td>1.721773e-01</td>\n",
       "      <td>-6.962152e-01</td>\n",
       "      <td>-6.712628e-01</td>\n",
       "    </tr>\n",
       "    <tr>\n",
       "      <th>50%</th>\n",
       "      <td>2.283783e-02</td>\n",
       "      <td>-4.621225e-02</td>\n",
       "      <td>5.710572e-01</td>\n",
       "      <td>-3.657857e-01</td>\n",
       "      <td>-1.659551e-01</td>\n",
       "      <td>-5.340416e-02</td>\n",
       "      <td>1.089617e-01</td>\n",
       "      <td>-8.315450e-01</td>\n",
       "      <td>-7.879774e-02</td>\n",
       "      <td>-1.368641e-01</td>\n",
       "      <td>1.721773e-01</td>\n",
       "      <td>-2.553414e-01</td>\n",
       "      <td>-6.712628e-01</td>\n",
       "    </tr>\n",
       "    <tr>\n",
       "      <th>75%</th>\n",
       "      <td>8.312881e-01</td>\n",
       "      <td>8.395065e-01</td>\n",
       "      <td>5.710572e-01</td>\n",
       "      <td>3.735410e-01</td>\n",
       "      <td>9.069876e-01</td>\n",
       "      <td>1.263032e+00</td>\n",
       "      <td>8.842595e-01</td>\n",
       "      <td>1.202581e+00</td>\n",
       "      <td>7.210535e-01</td>\n",
       "      <td>1.041879e+00</td>\n",
       "      <td>1.721773e-01</td>\n",
       "      <td>5.499158e-01</td>\n",
       "      <td>1.489729e+00</td>\n",
       "    </tr>\n",
       "    <tr>\n",
       "      <th>max</th>\n",
       "      <td>1.777980e+00</td>\n",
       "      <td>1.924711e+00</td>\n",
       "      <td>5.710572e-01</td>\n",
       "      <td>2.591521e+00</td>\n",
       "      <td>1.826653e+00</td>\n",
       "      <td>1.263032e+00</td>\n",
       "      <td>1.659557e+00</td>\n",
       "      <td>1.202581e+00</td>\n",
       "      <td>3.387224e+00</td>\n",
       "      <td>1.984873e+00</td>\n",
       "      <td>1.866489e+00</td>\n",
       "      <td>2.936577e+00</td>\n",
       "      <td>1.489729e+00</td>\n",
       "    </tr>\n",
       "  </tbody>\n",
       "</table>\n",
       "</div>"
      ],
      "text/plain": [
       "            User_ID    Product_ID        Gender           Age    Occupation  \\\n",
       "count  5.375770e+05  5.375770e+05  5.375770e+05  5.375770e+05  5.375770e+05   \n",
       "mean   1.449724e-14 -1.926964e-16  8.682448e-15 -5.272989e-15 -1.187239e-15   \n",
       "std    1.000001e+00  1.000001e+00  1.000001e+00  1.000001e+00  1.000001e+00   \n",
       "min   -1.744554e+00 -1.687984e+00 -1.751138e+00 -1.844439e+00 -1.238898e+00   \n",
       "25%   -8.731071e-01 -7.633651e-01  5.710572e-01 -3.657857e-01 -9.323427e-01   \n",
       "50%    2.283783e-02 -4.621225e-02  5.710572e-01 -3.657857e-01 -1.659551e-01   \n",
       "75%    8.312881e-01  8.395065e-01  5.710572e-01  3.735410e-01  9.069876e-01   \n",
       "max    1.777980e+00  1.924711e+00  5.710572e-01  2.591521e+00  1.826653e+00   \n",
       "\n",
       "       City_Category  Stay_In_Current_City_Years  Marital_Status  \\\n",
       "count   5.375770e+05                5.375770e+05    5.375770e+05   \n",
       "mean    8.572032e-16               -9.861743e-16    2.249424e-15   \n",
       "std     1.000001e+00                1.000001e+00    1.000001e+00   \n",
       "min    -1.369841e+00               -1.441634e+00   -8.315450e-01   \n",
       "25%    -1.369841e+00               -6.663361e-01   -8.315450e-01   \n",
       "50%    -5.340416e-02                1.089617e-01   -8.315450e-01   \n",
       "75%     1.263032e+00                8.842595e-01    1.202581e+00   \n",
       "max     1.263032e+00                1.659557e+00    1.202581e+00   \n",
       "\n",
       "       Product_Category_1  Product_Category_2  Product_Category_3  \\\n",
       "count        5.375770e+05        5.375770e+05        5.375770e+05   \n",
       "mean        -1.770383e-15        1.259792e-15        1.742834e-14   \n",
       "std          1.000001e+00        1.000001e+00        1.000001e+00   \n",
       "min         -1.145266e+00       -1.787104e+00       -4.487181e+00   \n",
       "25%         -1.145266e+00       -3.726127e-01        1.721773e-01   \n",
       "50%         -7.879774e-02       -1.368641e-01        1.721773e-01   \n",
       "75%          7.210535e-01        1.041879e+00        1.721773e-01   \n",
       "max          3.387224e+00        1.984873e+00        1.866489e+00   \n",
       "\n",
       "           Purchase  Product_Category_2_na  \n",
       "count  5.375770e+05           5.375770e+05  \n",
       "mean  -2.559215e-16          -8.675725e-15  \n",
       "std    1.000001e+00           1.000001e+00  \n",
       "min   -1.836745e+00          -6.712628e-01  \n",
       "25%   -6.962152e-01          -6.712628e-01  \n",
       "50%   -2.553414e-01          -6.712628e-01  \n",
       "75%    5.499158e-01           1.489729e+00  \n",
       "max    2.936577e+00           1.489729e+00  "
      ]
     },
     "execution_count": 17,
     "metadata": {},
     "output_type": "execute_result"
    }
   ],
   "source": [
    "X_scaled.describe()"
   ]
  },
  {
   "cell_type": "code",
   "execution_count": 18,
   "metadata": {},
   "outputs": [],
   "source": [
    "# Build the deep neural network\n",
    "def base_model():\n",
    "    model = Sequential()\n",
    "    model.add(Dense(15, input_dim=13, kernel_initializer='uniform', activation='relu'))\n",
    "    model.add(Dense(6, activation='relu'))\n",
    "    model.add(Dense(1))\n",
    "    model.compile(loss='mean_squared_error', optimizer='adam', metrics=['accuracy'])\n",
    "    return model"
   ]
  },
  {
   "cell_type": "code",
   "execution_count": 19,
   "metadata": {},
   "outputs": [],
   "source": [
    "X_train_valid, X_test, y_train_valid, y_test = train_test_split(X_scaled, y, test_size = 0.15)"
   ]
  },
  {
   "cell_type": "code",
   "execution_count": 20,
   "metadata": {},
   "outputs": [],
   "source": [
    "X_train, X_valid, y_train, y_valid = train_test_split(X_train_valid, y_train_valid, test_size=0.25)"
   ]
  },
  {
   "cell_type": "code",
   "execution_count": 21,
   "metadata": {},
   "outputs": [
    {
     "name": "stdout",
     "output_type": "stream",
     "text": [
      "(342705, 13) (114235, 13) (342705, 1) (114235, 1)\n"
     ]
    }
   ],
   "source": [
    "print(X_train.shape, X_valid.shape, y_train.shape, y_valid.shape)"
   ]
  },
  {
   "cell_type": "code",
   "execution_count": 22,
   "metadata": {},
   "outputs": [
    {
     "name": "stdout",
     "output_type": "stream",
     "text": [
      "<class 'pandas.core.frame.DataFrame'>\n",
      "Int64Index: 342705 entries, 51076 to 139002\n",
      "Data columns (total 13 columns):\n",
      "User_ID                       342705 non-null float64\n",
      "Product_ID                    342705 non-null float64\n",
      "Gender                        342705 non-null float64\n",
      "Age                           342705 non-null float64\n",
      "Occupation                    342705 non-null float64\n",
      "City_Category                 342705 non-null float64\n",
      "Stay_In_Current_City_Years    342705 non-null float64\n",
      "Marital_Status                342705 non-null float64\n",
      "Product_Category_1            342705 non-null float64\n",
      "Product_Category_2            342705 non-null float64\n",
      "Product_Category_3            342705 non-null float64\n",
      "Purchase                      342705 non-null float64\n",
      "Product_Category_2_na         342705 non-null float64\n",
      "dtypes: float64(13)\n",
      "memory usage: 36.6 MB\n",
      "None\n"
     ]
    }
   ],
   "source": [
    "print(X_train.info())"
   ]
  },
  {
   "cell_type": "code",
   "execution_count": 23,
   "metadata": {},
   "outputs": [
    {
     "data": {
      "text/html": [
       "<div>\n",
       "<style scoped>\n",
       "    .dataframe tbody tr th:only-of-type {\n",
       "        vertical-align: middle;\n",
       "    }\n",
       "\n",
       "    .dataframe tbody tr th {\n",
       "        vertical-align: top;\n",
       "    }\n",
       "\n",
       "    .dataframe thead th {\n",
       "        text-align: right;\n",
       "    }\n",
       "</style>\n",
       "<table border=\"1\" class=\"dataframe\">\n",
       "  <thead>\n",
       "    <tr style=\"text-align: right;\">\n",
       "      <th></th>\n",
       "      <th>User_ID</th>\n",
       "      <th>Product_ID</th>\n",
       "      <th>Gender</th>\n",
       "      <th>Age</th>\n",
       "      <th>Occupation</th>\n",
       "      <th>City_Category</th>\n",
       "      <th>Stay_In_Current_City_Years</th>\n",
       "      <th>Marital_Status</th>\n",
       "      <th>Product_Category_1</th>\n",
       "      <th>Product_Category_2</th>\n",
       "      <th>Product_Category_3</th>\n",
       "      <th>Purchase</th>\n",
       "      <th>Product_Category_2_na</th>\n",
       "    </tr>\n",
       "  </thead>\n",
       "  <tbody>\n",
       "    <tr>\n",
       "      <th>199945</th>\n",
       "      <td>-1.226585</td>\n",
       "      <td>-0.081122</td>\n",
       "      <td>0.571057</td>\n",
       "      <td>1.112868</td>\n",
       "      <td>1.826653</td>\n",
       "      <td>-1.369841</td>\n",
       "      <td>-0.666336</td>\n",
       "      <td>-0.831545</td>\n",
       "      <td>-0.878649</td>\n",
       "      <td>-1.079858</td>\n",
       "      <td>0.172177</td>\n",
       "      <td>0.071098</td>\n",
       "      <td>-0.671263</td>\n",
       "    </tr>\n",
       "    <tr>\n",
       "      <th>55124</th>\n",
       "      <td>-0.313725</td>\n",
       "      <td>1.075898</td>\n",
       "      <td>0.571057</td>\n",
       "      <td>-1.105112</td>\n",
       "      <td>-1.238898</td>\n",
       "      <td>-0.053404</td>\n",
       "      <td>-0.666336</td>\n",
       "      <td>-0.831545</td>\n",
       "      <td>-0.078798</td>\n",
       "      <td>-0.372613</td>\n",
       "      <td>0.172177</td>\n",
       "      <td>-1.183063</td>\n",
       "      <td>-0.671263</td>\n",
       "    </tr>\n",
       "    <tr>\n",
       "      <th>380870</th>\n",
       "      <td>0.915866</td>\n",
       "      <td>0.050539</td>\n",
       "      <td>0.571057</td>\n",
       "      <td>0.373541</td>\n",
       "      <td>0.293877</td>\n",
       "      <td>-1.369841</td>\n",
       "      <td>-0.666336</td>\n",
       "      <td>1.202581</td>\n",
       "      <td>-1.145266</td>\n",
       "      <td>-0.372613</td>\n",
       "      <td>1.442911</td>\n",
       "      <td>1.255796</td>\n",
       "      <td>-0.671263</td>\n",
       "    </tr>\n",
       "    <tr>\n",
       "      <th>310414</th>\n",
       "      <td>1.656654</td>\n",
       "      <td>1.347199</td>\n",
       "      <td>-1.751138</td>\n",
       "      <td>-0.365786</td>\n",
       "      <td>-1.238898</td>\n",
       "      <td>1.263032</td>\n",
       "      <td>1.659557</td>\n",
       "      <td>-0.831545</td>\n",
       "      <td>0.721053</td>\n",
       "      <td>-0.136864</td>\n",
       "      <td>0.172177</td>\n",
       "      <td>-0.315570</td>\n",
       "      <td>1.489729</td>\n",
       "    </tr>\n",
       "    <tr>\n",
       "      <th>362936</th>\n",
       "      <td>-0.660204</td>\n",
       "      <td>0.458488</td>\n",
       "      <td>0.571057</td>\n",
       "      <td>2.591521</td>\n",
       "      <td>1.213543</td>\n",
       "      <td>1.263032</td>\n",
       "      <td>-0.666336</td>\n",
       "      <td>-0.831545</td>\n",
       "      <td>1.520905</td>\n",
       "      <td>1.277627</td>\n",
       "      <td>0.172177</td>\n",
       "      <td>-1.569531</td>\n",
       "      <td>-0.671263</td>\n",
       "    </tr>\n",
       "  </tbody>\n",
       "</table>\n",
       "</div>"
      ],
      "text/plain": [
       "         User_ID  Product_ID    Gender       Age  Occupation  City_Category  \\\n",
       "199945 -1.226585   -0.081122  0.571057  1.112868    1.826653      -1.369841   \n",
       "55124  -0.313725    1.075898  0.571057 -1.105112   -1.238898      -0.053404   \n",
       "380870  0.915866    0.050539  0.571057  0.373541    0.293877      -1.369841   \n",
       "310414  1.656654    1.347199 -1.751138 -0.365786   -1.238898       1.263032   \n",
       "362936 -0.660204    0.458488  0.571057  2.591521    1.213543       1.263032   \n",
       "\n",
       "        Stay_In_Current_City_Years  Marital_Status  Product_Category_1  \\\n",
       "199945                   -0.666336       -0.831545           -0.878649   \n",
       "55124                    -0.666336       -0.831545           -0.078798   \n",
       "380870                   -0.666336        1.202581           -1.145266   \n",
       "310414                    1.659557       -0.831545            0.721053   \n",
       "362936                   -0.666336       -0.831545            1.520905   \n",
       "\n",
       "        Product_Category_2  Product_Category_3  Purchase  \\\n",
       "199945           -1.079858            0.172177  0.071098   \n",
       "55124            -0.372613            0.172177 -1.183063   \n",
       "380870           -0.372613            1.442911  1.255796   \n",
       "310414           -0.136864            0.172177 -0.315570   \n",
       "362936            1.277627            0.172177 -1.569531   \n",
       "\n",
       "        Product_Category_2_na  \n",
       "199945              -0.671263  \n",
       "55124               -0.671263  \n",
       "380870              -0.671263  \n",
       "310414               1.489729  \n",
       "362936              -0.671263  "
      ]
     },
     "execution_count": 23,
     "metadata": {},
     "output_type": "execute_result"
    }
   ],
   "source": [
    "X_valid.head()"
   ]
  },
  {
   "cell_type": "code",
   "execution_count": 24,
   "metadata": {},
   "outputs": [],
   "source": [
    "estimator = KerasRegressor(build_fn=base_model, epochs=10, batch_size=100, verbose=True)\n",
    "#kfold = KFold(n_splits=10, random_state=42)"
   ]
  },
  {
   "cell_type": "code",
   "execution_count": 25,
   "metadata": {},
   "outputs": [
    {
     "name": "stdout",
     "output_type": "stream",
     "text": [
      "WARNING:tensorflow:From /home/huixiang/anaconda3/lib/python3.7/site-packages/tensorflow/python/framework/op_def_library.py:263: colocate_with (from tensorflow.python.framework.ops) is deprecated and will be removed in a future version.\n",
      "Instructions for updating:\n",
      "Colocations handled automatically by placer.\n",
      "WARNING:tensorflow:From /home/huixiang/anaconda3/lib/python3.7/site-packages/tensorflow/python/ops/math_ops.py:3066: to_int32 (from tensorflow.python.ops.math_ops) is deprecated and will be removed in a future version.\n",
      "Instructions for updating:\n",
      "Use tf.cast instead.\n",
      "Epoch 1/10\n",
      "342705/342705 [==============================] - 3s 7us/step - loss: 0.0446 - acc: 0.9446\n",
      "Epoch 2/10\n",
      "342705/342705 [==============================] - 3s 8us/step - loss: 0.0260 - acc: 0.9660\n",
      "Epoch 3/10\n",
      "342705/342705 [==============================] - 3s 9us/step - loss: 0.0255 - acc: 0.9661\n",
      "Epoch 4/10\n",
      "342705/342705 [==============================] - 3s 9us/step - loss: 0.0252 - acc: 0.9663\n",
      "Epoch 5/10\n",
      "342705/342705 [==============================] - 3s 9us/step - loss: 0.0250 - acc: 0.9664\n",
      "Epoch 6/10\n",
      "342705/342705 [==============================] - 3s 9us/step - loss: 0.0249 - acc: 0.9666\n",
      "Epoch 7/10\n",
      "342705/342705 [==============================] - 3s 9us/step - loss: 0.0248 - acc: 0.9669\n",
      "Epoch 8/10\n",
      "342705/342705 [==============================] - 3s 9us/step - loss: 0.0248 - acc: 0.9669\n",
      "Epoch 9/10\n",
      "342705/342705 [==============================] - 3s 9us/step - loss: 0.0247 - acc: 0.9670\n",
      "Epoch 10/10\n",
      "342705/342705 [==============================] - 3s 9us/step - loss: 0.0247 - acc: 0.9669\n"
     ]
    },
    {
     "data": {
      "text/plain": [
       "<keras.callbacks.History at 0x7fa3890fd940>"
      ]
     },
     "execution_count": 25,
     "metadata": {},
     "output_type": "execute_result"
    }
   ],
   "source": [
    "#estimator.fit(X_train, y_train, epochs=100, batch_size=32, verbose=True)\n",
    "estimator.fit(X_train, y_train)"
   ]
  },
  {
   "cell_type": "code",
   "execution_count": 34,
   "metadata": {},
   "outputs": [
    {
     "name": "stdout",
     "output_type": "stream",
     "text": [
      "114235/114235 [==============================] - 0s 2us/step\n",
      "The result for validation dataset is 0.024\n"
     ]
    }
   ],
   "source": [
    "y_pred = estimator.predict(X_valid)\n",
    "print(\"The MSE result for validation dataset is {:.3f}\".format(mean_squared_error(y_valid, y_pred)))"
   ]
  },
  {
   "cell_type": "code",
   "execution_count": 27,
   "metadata": {
    "scrolled": true
   },
   "outputs": [
    {
     "data": {
      "text/html": [
       "<div>\n",
       "<style scoped>\n",
       "    .dataframe tbody tr th:only-of-type {\n",
       "        vertical-align: middle;\n",
       "    }\n",
       "\n",
       "    .dataframe tbody tr th {\n",
       "        vertical-align: top;\n",
       "    }\n",
       "\n",
       "    .dataframe thead th {\n",
       "        text-align: right;\n",
       "    }\n",
       "</style>\n",
       "<table border=\"1\" class=\"dataframe\">\n",
       "  <thead>\n",
       "    <tr style=\"text-align: right;\">\n",
       "      <th></th>\n",
       "      <th>User_ID</th>\n",
       "      <th>Product_ID</th>\n",
       "      <th>Gender</th>\n",
       "      <th>Age</th>\n",
       "      <th>Occupation</th>\n",
       "      <th>City_Category</th>\n",
       "      <th>Stay_In_Current_City_Years</th>\n",
       "      <th>Marital_Status</th>\n",
       "      <th>Product_Category_1</th>\n",
       "      <th>Product_Category_2</th>\n",
       "      <th>Product_Category_3</th>\n",
       "      <th>Purchase</th>\n",
       "      <th>Product_Category_2_na</th>\n",
       "    </tr>\n",
       "  </thead>\n",
       "  <tbody>\n",
       "    <tr>\n",
       "      <th>199945</th>\n",
       "      <td>-1.226585</td>\n",
       "      <td>-0.081122</td>\n",
       "      <td>0.571057</td>\n",
       "      <td>1.112868</td>\n",
       "      <td>1.826653</td>\n",
       "      <td>-1.369841</td>\n",
       "      <td>-0.666336</td>\n",
       "      <td>-0.831545</td>\n",
       "      <td>-0.878649</td>\n",
       "      <td>-1.079858</td>\n",
       "      <td>0.172177</td>\n",
       "      <td>0.071098</td>\n",
       "      <td>-0.671263</td>\n",
       "    </tr>\n",
       "    <tr>\n",
       "      <th>55124</th>\n",
       "      <td>-0.313725</td>\n",
       "      <td>1.075898</td>\n",
       "      <td>0.571057</td>\n",
       "      <td>-1.105112</td>\n",
       "      <td>-1.238898</td>\n",
       "      <td>-0.053404</td>\n",
       "      <td>-0.666336</td>\n",
       "      <td>-0.831545</td>\n",
       "      <td>-0.078798</td>\n",
       "      <td>-0.372613</td>\n",
       "      <td>0.172177</td>\n",
       "      <td>-1.183063</td>\n",
       "      <td>-0.671263</td>\n",
       "    </tr>\n",
       "    <tr>\n",
       "      <th>380870</th>\n",
       "      <td>0.915866</td>\n",
       "      <td>0.050539</td>\n",
       "      <td>0.571057</td>\n",
       "      <td>0.373541</td>\n",
       "      <td>0.293877</td>\n",
       "      <td>-1.369841</td>\n",
       "      <td>-0.666336</td>\n",
       "      <td>1.202581</td>\n",
       "      <td>-1.145266</td>\n",
       "      <td>-0.372613</td>\n",
       "      <td>1.442911</td>\n",
       "      <td>1.255796</td>\n",
       "      <td>-0.671263</td>\n",
       "    </tr>\n",
       "    <tr>\n",
       "      <th>310414</th>\n",
       "      <td>1.656654</td>\n",
       "      <td>1.347199</td>\n",
       "      <td>-1.751138</td>\n",
       "      <td>-0.365786</td>\n",
       "      <td>-1.238898</td>\n",
       "      <td>1.263032</td>\n",
       "      <td>1.659557</td>\n",
       "      <td>-0.831545</td>\n",
       "      <td>0.721053</td>\n",
       "      <td>-0.136864</td>\n",
       "      <td>0.172177</td>\n",
       "      <td>-0.315570</td>\n",
       "      <td>1.489729</td>\n",
       "    </tr>\n",
       "    <tr>\n",
       "      <th>362936</th>\n",
       "      <td>-0.660204</td>\n",
       "      <td>0.458488</td>\n",
       "      <td>0.571057</td>\n",
       "      <td>2.591521</td>\n",
       "      <td>1.213543</td>\n",
       "      <td>1.263032</td>\n",
       "      <td>-0.666336</td>\n",
       "      <td>-0.831545</td>\n",
       "      <td>1.520905</td>\n",
       "      <td>1.277627</td>\n",
       "      <td>0.172177</td>\n",
       "      <td>-1.569531</td>\n",
       "      <td>-0.671263</td>\n",
       "    </tr>\n",
       "  </tbody>\n",
       "</table>\n",
       "</div>"
      ],
      "text/plain": [
       "         User_ID  Product_ID    Gender       Age  Occupation  City_Category  \\\n",
       "199945 -1.226585   -0.081122  0.571057  1.112868    1.826653      -1.369841   \n",
       "55124  -0.313725    1.075898  0.571057 -1.105112   -1.238898      -0.053404   \n",
       "380870  0.915866    0.050539  0.571057  0.373541    0.293877      -1.369841   \n",
       "310414  1.656654    1.347199 -1.751138 -0.365786   -1.238898       1.263032   \n",
       "362936 -0.660204    0.458488  0.571057  2.591521    1.213543       1.263032   \n",
       "\n",
       "        Stay_In_Current_City_Years  Marital_Status  Product_Category_1  \\\n",
       "199945                   -0.666336       -0.831545           -0.878649   \n",
       "55124                    -0.666336       -0.831545           -0.078798   \n",
       "380870                   -0.666336        1.202581           -1.145266   \n",
       "310414                    1.659557       -0.831545            0.721053   \n",
       "362936                   -0.666336       -0.831545            1.520905   \n",
       "\n",
       "        Product_Category_2  Product_Category_3  Purchase  \\\n",
       "199945           -1.079858            0.172177  0.071098   \n",
       "55124            -0.372613            0.172177 -1.183063   \n",
       "380870           -0.372613            1.442911  1.255796   \n",
       "310414           -0.136864            0.172177 -0.315570   \n",
       "362936            1.277627            0.172177 -1.569531   \n",
       "\n",
       "        Product_Category_2_na  \n",
       "199945              -0.671263  \n",
       "55124               -0.671263  \n",
       "380870              -0.671263  \n",
       "310414               1.489729  \n",
       "362936              -0.671263  "
      ]
     },
     "execution_count": 27,
     "metadata": {},
     "output_type": "execute_result"
    }
   ],
   "source": [
    "X_valid.head()"
   ]
  },
  {
   "cell_type": "code",
   "execution_count": 32,
   "metadata": {},
   "outputs": [
    {
     "name": "stdout",
     "output_type": "stream",
     "text": [
      "80637/80637 [==============================] - 0s 2us/step\n",
      "The result for test dataset is 0.024\n"
     ]
    }
   ],
   "source": [
    "y_pred_test = estimator.predict(X_test)\n",
    "print(\"The MSE result for test dataset is {:.3f}\".format(mean_squared_error(y_pred_test, y_test)))"
   ]
  }
 ],
 "metadata": {
  "kernelspec": {
   "display_name": "Python 3",
   "language": "python",
   "name": "python3"
  },
  "language_info": {
   "codemirror_mode": {
    "name": "ipython",
    "version": 3
   },
   "file_extension": ".py",
   "mimetype": "text/x-python",
   "name": "python",
   "nbconvert_exporter": "python",
   "pygments_lexer": "ipython3",
   "version": "3.7.1"
  }
 },
 "nbformat": 4,
 "nbformat_minor": 2
}
